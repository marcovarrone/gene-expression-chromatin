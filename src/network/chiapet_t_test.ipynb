{
 "cells": [
  {
   "cell_type": "markdown",
   "metadata": {},
   "source": [
    "# T-test for ChIA-PET interaction networks"
   ]
  },
  {
   "cell_type": "code",
   "execution_count": 1,
   "metadata": {},
   "outputs": [],
   "source": [
    "import pandas as pd\n",
    "import numpy as np\n",
    "import pybedtools\n",
    "import seaborn as sns\n",
    "import matplotlib.pyplot as plt\n",
    "from scipy.stats import ttest_ind\n",
    "import time\n",
    "\n",
    "from chiapet_to_sparse import ChiaPetInteractions"
   ]
  },
  {
   "cell_type": "markdown",
   "metadata": {},
   "source": [
    "We load the matrix of interactions obtained from the ChIA-PET experiment, the gene coordinates and the gene expression data."
   ]
  },
  {
   "cell_type": "code",
   "execution_count": 2,
   "metadata": {},
   "outputs": [],
   "source": [
    "bin_length = 10000000\n",
    "file = 'ENCSR000BZX_HCT116_POLR2A'\n",
    "\n",
    "file_path = '../../data/' + str(file) + '.bed'\n",
    "contact_matrix = ChiaPetInteractions(file_path, bin_length, different_chrs=False)\n",
    "interactions = contact_matrix.interactions\n",
    "gene_meta = pd.read_csv('/home/nanni/Projects/gexi-top/data/processed/dgex_genes_with_coords.tsv', sep='\\t',\n",
    "                            header=0)\n",
    "genexp = np.load('/home/nanni/Projects/gexi-top/data/processed/d-gex/bgedv2_GTEx_1000G_float64.npy')"
   ]
  },
  {
   "cell_type": "markdown",
   "metadata": {
    "collapsed": true
   },
   "source": [
    "Make the dataframe compatible with a bed file format and then add a new id for accessing the expression matrix."
   ]
  },
  {
   "cell_type": "code",
   "execution_count": 3,
   "metadata": {},
   "outputs": [],
   "source": [
    "gene_coordinates = gene_meta[['dgex_feature_id', 'chr', 'start', 'end', 'strand']].copy()\n",
    "gene_coordinates.columns = ['dgex_feature_id', 'chrom', 'chromStart', 'chromEnd', 'strand']\n",
    "\n",
    "gene_coordinates['strand'] = gene_coordinates['strand'].astype('object')\n",
    "\n",
    "gene_coordinates = gene_coordinates.replace({'strand': {-1: '-', 1: '+'}}, None)\n",
    "\n",
    "gene_coordinates['dgex_feature_filtered_id'] = np.arange(len(gene_coordinates), dtype=int)"
   ]
  },
  {
   "cell_type": "markdown",
   "metadata": {},
   "source": [
    "Extend the gene coordinates to cover the promoter region"
   ]
  },
  {
   "cell_type": "code",
   "execution_count": 4,
   "metadata": {},
   "outputs": [],
   "source": [
    "def extension(row, size):\n",
    "    if row['strand'] == '+':\n",
    "        new_value = row['chromStart'] - 1000\n",
    "        if new_value < 0:\n",
    "            new_value = 0\n",
    "        row['chromStart'] = new_value\n",
    "    elif row['strand'] == '-':\n",
    "        row['chromEnd'] += 1000\n",
    "    return row\n",
    "\n",
    "gene_coord_promoter = gene_coordinates.apply(lambda row: extension(row, 1000), axis=1)"
   ]
  },
  {
   "cell_type": "markdown",
   "metadata": {},
   "source": [
    "Build a matrix of gene interactions from the matrix of interacting regions (can be improved, e.g. using pybedtools)"
   ]
  },
  {
   "cell_type": "code",
   "execution_count": 5,
   "metadata": {},
   "outputs": [],
   "source": [
    "def get_interacting_genes(genes, position, chromosome):\n",
    "    return genes[(position > genes['chromStart']) & (position < genes['chromEnd']) \n",
    "                 & (genes['chrom'] == chromosome)]\n",
    "\n",
    "n_genes = len(gene_coord_promoter)\n",
    "\n",
    "gene_interactions = np.zeros((n_genes, n_genes))\n",
    "\n",
    "for i, interaction in interactions.iterrows():\n",
    "    first_genes = get_interacting_genes(gene_coord_promoter, interaction['index1'], interaction['chrom1'])\n",
    "    second_genes = get_interacting_genes(gene_coord_promoter, interaction['index2'], interaction['chrom2'])\n",
    "    if len(first_genes) > 0 and len(second_genes) > 0:\n",
    "        for _, first_gene in first_genes.iterrows():\n",
    "            for _, second_gene in second_genes.iterrows():\n",
    "                if first_gene['dgex_feature_filtered_id'] != second_gene['dgex_feature_filtered_id']:\n",
    "                    gene_interactions[first_gene['dgex_feature_filtered_id']][\n",
    "                        second_gene['dgex_feature_filtered_id']] += 1"
   ]
  },
  {
   "cell_type": "markdown",
   "metadata": {},
   "source": [
    "Select the expression values only for the genes present in the gene coordinates file"
   ]
  },
  {
   "cell_type": "code",
   "execution_count": 6,
   "metadata": {},
   "outputs": [],
   "source": [
    "genexp_selected = genexp[gene_coord_promoter['dgex_feature_id']]"
   ]
  },
  {
   "cell_type": "markdown",
   "metadata": {},
   "source": [
    "Compute the Pearson correlation values for the expression dataset"
   ]
  },
  {
   "cell_type": "code",
   "execution_count": 7,
   "metadata": {},
   "outputs": [],
   "source": [
    "gene_correlations = np.corrcoef(genexp_selected)"
   ]
  },
  {
   "cell_type": "markdown",
   "metadata": {},
   "source": [
    "Plot the correlation distributions of the interacting genes and of the randomly sampled elements."
   ]
  },
  {
   "cell_type": "code",
   "execution_count": 9,
   "metadata": {},
   "outputs": [
    {
     "data": {
      "image/png": "[encoded data removed]",
      "text/plain": [
       "<Figure size 432x288 with 1 Axes>"
      ]
     },
     "metadata": {
      "needs_background": "light"
     },
     "output_type": "display_data"
    }
   ],
   "source": [
    "# Interacting distribution\n",
    "interaction_idxs = np.nonzero(gene_interactions)\n",
    "correlations_interacting = gene_correlations[interaction_idxs]\n",
    "sns.distplot(correlations_interacting, label=\"connected\")\n",
    "\n",
    "# Sampled distribution\n",
    "n_interacting_gene_couples = np.count_nonzero(gene_interactions)\n",
    "index_x, index_y = np.where(gene_interactions == 0)\n",
    "sampling_idxs = np.random.choice(np.arange(index_x.shape[0]), n_interacting_gene_couples, replace=False)\n",
    "\n",
    "correlations_non_interacting_sampled = gene_correlations[index_x[sampling_idxs], index_y[sampling_idxs]]\n",
    "\n",
    "sns.distplot(correlations_non_interacting_sampled, label=\"random\")\n",
    "plt.legend()\n",
    "plt.show()"
   ]
  },
  {
   "cell_type": "markdown",
   "metadata": {},
   "source": [
    "Perform t-test"
   ]
  },
  {
   "cell_type": "code",
   "execution_count": 10,
   "metadata": {},
   "outputs": [
    {
     "data": {
      "text/plain": [
       "Ttest_indResult(statistic=7.599664129116409, pvalue=3.394764607185087e-14)"
      ]
     },
     "execution_count": 10,
     "metadata": {},
     "output_type": "execute_result"
    }
   ],
   "source": [
    "ttest_ind(correlations_interacting, correlations_non_interacting_sampled, equal_var=False)"
   ]
  },
  {
   "cell_type": "code",
   "execution_count": null,
   "metadata": {},
   "outputs": [],
   "source": []
  }
 ],
 "metadata": {
  "kernelspec": {
   "display_name": "Python 3",
   "language": "python",
   "name": "python3"
  },
  "language_info": {
   "codemirror_mode": {
    "name": "ipython",
    "version": 3
   },
   "file_extension": ".py",
   "mimetype": "text/x-python",
   "name": "python",
   "nbconvert_exporter": "python",
   "pygments_lexer": "ipython3",
   "version": "3.6.8"
  }
 },
 "nbformat": 4,
 "nbformat_minor": 2
}
