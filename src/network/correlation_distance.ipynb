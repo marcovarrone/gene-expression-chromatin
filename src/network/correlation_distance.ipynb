{
 "cells": [
  {
   "cell_type": "code",
   "execution_count": 1,
   "metadata": {},
   "outputs": [],
   "source": [
    "import numpy as np\n",
    "import scipy.sparse as sps\n",
    "import seaborn as sns\n",
    "import networkx as nx\n",
    "import matplotlib.pyplot as plt\n",
    "%matplotlib inline "
   ]
  },
  {
   "cell_type": "code",
   "execution_count": 2,
   "metadata": {},
   "outputs": [],
   "source": [
    "genexp = np.load('/home/nanni/Projects/gexi-top/data/processed/d-gex/bgedv2_GTEx_1000G_float64.npy')\n",
    "#gene_correlations = np.corrcoef(genexp)\n",
    "#np.save('/home/varrone/gene-expression-chromatin/data/gene_correlations_full.npy', gene_correlations)\n",
    "gene_correlations = np.load('/home/varrone/gene-expression-chromatin/data/gene_correlations_full.npy')"
   ]
  },
  {
   "cell_type": "code",
   "execution_count": 3,
   "metadata": {},
   "outputs": [
    {
     "data": {
      "text/plain": [
       "(10463, 10463)"
      ]
     },
     "execution_count": 3,
     "metadata": {},
     "output_type": "execute_result"
    }
   ],
   "source": [
    "DIRECTORY_GRAPH = '/home/nanni/Projects/gexi-top/data/interim/graphs/'\n",
    "A = sps.load_npz(str(DIRECTORY_GRAPH) + 'genemania.npz')\n",
    "\n",
    "A.shape"
   ]
  },
  {
   "cell_type": "code",
   "execution_count": 4,
   "metadata": {},
   "outputs": [
    {
     "data": {
      "text/plain": [
       "(9520, 943)"
      ]
     },
     "execution_count": 4,
     "metadata": {},
     "output_type": "execute_result"
    }
   ],
   "source": [
    "target_landmarks = A[943:, :943].todense()\n",
    "target_landmarks.shape"
   ]
  },
  {
   "cell_type": "code",
   "execution_count": 5,
   "metadata": {},
   "outputs": [
    {
     "data": {
      "text/plain": [
       "348030"
      ]
     },
     "execution_count": 5,
     "metadata": {},
     "output_type": "execute_result"
    }
   ],
   "source": [
    "np.count_nonzero(target_landmarks)"
   ]
  },
  {
   "cell_type": "code",
   "execution_count": 6,
   "metadata": {},
   "outputs": [
    {
     "data": {
      "text/plain": [
       "matrix([[ 79, 140, 413, ..., 321, 309, 942],\n",
       "        [347, 756, 417, ..., 325, 312, 942],\n",
       "        [478, 213, 292, ..., 328, 330, 942],\n",
       "        ...,\n",
       "        [704, 493,  84, ..., 323, 325, 942],\n",
       "        [513, 693,  10, ..., 322, 310, 942],\n",
       "        [643, 450,  76, ..., 335, 309, 942]])"
      ]
     },
     "execution_count": 6,
     "metadata": {},
     "output_type": "execute_result"
    }
   ],
   "source": [
    "idx_sorted = np.argsort(-target_landmarks, axis=1)\n",
    "idx_sorted"
   ]
  },
  {
   "cell_type": "code",
   "execution_count": 31,
   "metadata": {
    "scrolled": true
   },
   "outputs": [
    {
     "data": {
      "text/plain": [
       "(9520,)"
      ]
     },
     "execution_count": 31,
     "metadata": {},
     "output_type": "execute_result"
    }
   ],
   "source": [
    "n_interactions = np.ravel((target_landmarks != 0).sum(axis=1))\n",
    "n_interactions.shape"
   ]
  },
  {
   "cell_type": "code",
   "execution_count": 9,
   "metadata": {},
   "outputs": [
    {
     "ename": "SyntaxError",
     "evalue": "invalid syntax (<ipython-input-9-5812cc8144d0>, line 2)",
     "output_type": "error",
     "traceback": [
      "\u001b[0;36m  File \u001b[0;32m\"<ipython-input-9-5812cc8144d0>\"\u001b[0;36m, line \u001b[0;32m2\u001b[0m\n\u001b[0;31m    n_interactions = np.ravel((target_landmarks[] != 0).sum(1))\u001b[0m\n\u001b[0m                                                ^\u001b[0m\n\u001b[0;31mSyntaxError\u001b[0m\u001b[0;31m:\u001b[0m invalid syntax\n"
     ]
    }
   ],
   "source": [
    "def get_interaction_mask_old(indices):\n",
    "    n_interactions = np.ravel((indices != 0).sum(1))\n",
    "    mask = np.zeros(shape=gene_correlations.shape, dtype=bool)\n",
    "    for i, n_neighbors in enumerate(n_interactions):\n",
    "        print(n_neighbors)\n",
    "        neighbors_idx = indices[i, :n_neighbors]\n",
    "        mask[943+i, neighbors_idx] = True\n",
    "    return mask"
   ]
  },
  {
   "cell_type": "code",
   "execution_count": 25,
   "metadata": {},
   "outputs": [],
   "source": [
    "def get_interaction_mask_old2(indices, target_landmarks):\n",
    "    mask_high = np.zeros(shape=gene_correlations.shape, dtype=bool)\n",
    "    mask_avg = np.zeros(shape=gene_correlations.shape, dtype=bool)\n",
    "    mask_low = np.zeros(shape=gene_correlations.shape, dtype=bool)\n",
    "    for i, neighbors in enumerate(indices):\n",
    "        interactions = target_landmarks[i, neighbors]\n",
    "        n_interactions = np.count_nonzero(interactions)\n",
    "        neighbors_idx = neighbors[:n_interactions]\n",
    "        \n",
    "        high, avg, low = np.array_split(neighbors_idx, 3, axis=1)\n",
    "        print(high, avg, low)\n",
    "        mask_high[943+i, high] = True\n",
    "        mask_avg[943+i, avg] = True\n",
    "        mask_low[943+i, low] = True\n",
    "    return mask_high, mask_avg, mask_low"
   ]
  },
  {
   "cell_type": "code",
   "execution_count": 35,
   "metadata": {},
   "outputs": [],
   "source": [
    "def get_interaction_mask(idx_sorted, n_interactions):\n",
    "    mask_high = np.zeros(shape=gene_correlations.shape, dtype=bool)\n",
    "    mask_avg = np.zeros(shape=gene_correlations.shape, dtype=bool)\n",
    "    mask_low = np.zeros(shape=gene_correlations.shape, dtype=bool)\n",
    "    for i, n_neighbors in enumerate(n_interactions):\n",
    "        idx_connected = idx_sorted[i, :n_neighbors]\n",
    "        \n",
    "        high, avg, low = np.array_split(idx_connected, 3, axis=1)\n",
    "        mask_high[943+i, high] = True\n",
    "        mask_avg[943+i, avg] = True\n",
    "        mask_low[943+i, low] = True\n",
    "    return mask_high, mask_avg, mask_low"
   ]
  },
  {
   "cell_type": "code",
   "execution_count": 36,
   "metadata": {},
   "outputs": [],
   "source": [
    "mask_high, mask_avg, mask_low = get_interaction_mask(idx_sorted, n_interactions)\n"
   ]
  },
  {
   "cell_type": "code",
   "execution_count": 16,
   "metadata": {},
   "outputs": [
    {
     "name": "stdout",
     "output_type": "stream",
     "text": [
      "0\n"
     ]
    }
   ],
   "source": [
    "'''average_mask = get_interaction_mask(average, target_landmarks)\n",
    "print(np.count_nonzero(average_mask))\n",
    "low_mask = get_interaction_mask(low, target_landmarks)'''"
   ]
  },
  {
   "cell_type": "code",
   "execution_count": 37,
   "metadata": {},
   "outputs": [
    {
     "data": {
      "text/plain": [
       "<matplotlib.axes._subplots.AxesSubplot at 0x7f2b8e7c15c0>"
      ]
     },
     "execution_count": 37,
     "metadata": {},
     "output_type": "execute_result"
    },
    {
     "data": {
      "image/png": "[encoded data removed]",
      "text/plain": [
       "<Figure size 432x288 with 1 Axes>"
      ]
     },
     "metadata": {
      "needs_background": "light"
     },
     "output_type": "display_data"
    }
   ],
   "source": [
    "sns.boxplot(data=[gene_correlations[mask_low], gene_correlations[mask_avg], gene_correlations[mask_high]])"
   ]
  },
  {
   "cell_type": "code",
   "execution_count": null,
   "metadata": {},
   "outputs": [],
   "source": []
  }
 ],
 "metadata": {
  "kernelspec": {
   "display_name": "Python 3",
   "language": "python",
   "name": "python3"
  },
  "language_info": {
   "codemirror_mode": {
    "name": "ipython",
    "version": 3
   },
   "file_extension": ".py",
   "mimetype": "text/x-python",
   "name": "python",
   "nbconvert_exporter": "python",
   "pygments_lexer": "ipython3",
   "version": "3.6.8"
  }
 },
 "nbformat": 4,
 "nbformat_minor": 2
}
